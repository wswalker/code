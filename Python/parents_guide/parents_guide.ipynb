{
 "cells": [
  {
   "cell_type": "code",
   "execution_count": null,
   "metadata": {},
   "outputs": [],
   "source": [
    "rt = True #do you want to see the rotten tomatoes as well?\n",
    "import webbrowser\n",
    "movies = []\n",
    "go = True\n",
    "count = 0\n",
    "while go:\n",
    "  movie_name = input(\"What movie? Say 's' to stop\")\n",
    "  if (movie_name == \"s\"):\n",
    "    go = False\n",
    "  else:\n",
    "    movies.append(movie_name)\n",
    "    count+=1\n",
    "  if count ==10:\n",
    "    go = False\n",
    "for i in movies:\n",
    "  adjusted_name=i.replace(\" \",\"%20\")\n",
    "  parents_link = 'http://www.google.com/search?safe=strict&hl=en&q=imdb%20parents%20guide%20{}&btnI'.format(adjusted_name)\n",
    "  webbrowser.open(parents_link)\n",
    "  if rt:\n",
    "    rotten_link = 'http://www.google.com/search?safe=strict&hl=en&q=rotten%20tomatoes%20{}&btnI'.format(adjusted_name)\n",
    "    webbrowser.open(rotten_link)\n"
   ]
  },
  {
   "cell_type": "code",
   "execution_count": null,
   "metadata": {},
   "outputs": [],
   "source": []
  }
 ],
 "metadata": {
  "kernelspec": {
   "display_name": "Python 3",
   "language": "python",
   "name": "python3"
  },
  "language_info": {
   "codemirror_mode": {
    "name": "ipython",
    "version": 3
   },
   "file_extension": ".py",
   "mimetype": "text/x-python",
   "name": "python",
   "nbconvert_exporter": "python",
   "pygments_lexer": "ipython3",
   "version": "3.7.4"
  }
 },
 "nbformat": 4,
 "nbformat_minor": 2
}
